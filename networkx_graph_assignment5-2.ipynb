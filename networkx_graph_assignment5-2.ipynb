{
 "cells": [
  {
   "cell_type": "markdown",
   "metadata": {},
   "source": [
    "# Travelling salesman problem - To find the shortest roads that connects a set of cities"
   ]
  },
  {
   "cell_type": "code",
   "execution_count": 1,
   "metadata": {},
   "outputs": [],
   "source": [
    "#import libraries\n",
    "import itertools\n",
    "import copy\n",
    "import networkx as nx\n",
    "import pandas as pd\n",
    "import matplotlib.pyplot as plt\n",
    "%matplotlib inline"
   ]
  },
  {
   "cell_type": "markdown",
   "metadata": {},
   "source": [
    "## Load Data\\n\n",
    "- node1 & node2: names of the nodes connected.\\n,\n",
    "- trail: edge attribute indicating the abbreviated name of the trail for each edge. For example: rs = red square\\n,\n",
    "- distance: edge attribute indicating trail length in miles.\\n,\n",
    "- color: trail color used for plotting.\\n,\n",
    "- estimate: edge attribute indicating whether the edge distance is estimated from eyeballing the trailmap (1=yes, 0=no) as some distances are not provided. This is solely for reference; it is not used for analysis.\n"
   ]
  },
  {
   "cell_type": "code",
   "execution_count": 4,
   "metadata": {},
   "outputs": [
    {
     "name": "stdout",
     "output_type": "stream",
     "text": [
      "               node1            node2   trail  distance        color  estimate\n",
      "0       rs_end_north             v_rs      rs      0.30          red         0\n",
      "1               v_rs             b_rs      rs      0.21          red         0\n",
      "2               b_rs             g_rs      rs      0.11          red         0\n",
      "3               g_rs             w_rs      rs      0.18          red         0\n",
      "4               w_rs             o_rs      rs      0.21          red         0\n",
      "5               o_rs             y_rs      rs      0.12          red         0\n",
      "6               y_rs     rs_end_south      rs      0.39          red         0\n",
      "7       rc_end_north             v_rc      rc      0.70          red         0\n",
      "8               v_rc             b_rc      rc      0.04          red         0\n",
      "9               b_rc             g_rc      rc      0.15          red         0\n",
      "10              g_rc             o_rc      rc      0.13          red         0\n",
      "11              o_rc             w_rc      rc      0.23          red         1\n",
      "12              w_rc             y_rc      rc      0.14          red         0\n",
      "13              y_rc     rc_end_south      rc      0.36          red         0\n",
      "14      rt_end_north             v_rt      rt      0.30          red         0\n",
      "15              v_rt            tt_rt      rt      0.16          red         0\n",
      "16             tt_rt             b_rt      rt      0.04          red         1\n",
      "17              b_rt             g_rt      rt      0.09          red         0\n",
      "18              g_rt             o_rt      rt      0.05          red         1\n",
      "19              o_rt             w_rt      rt      0.06          red         0\n",
      "20              w_rt             y_rt      rt      0.19          red         0\n",
      "21              y_rt     rt_end_south      rt      0.18          red         0\n",
      "22      rh_end_north             v_rh      rh      0.24          red         0\n",
      "23              v_rh             b_rh      rh      0.12          red         0\n",
      "24              b_rh      rh_end_tt_1      rh      0.06          red         0\n",
      "25       rh_end_tt_2             o_rh      rh      0.07          red         1\n",
      "26              o_rh      rh_end_tt_3      rh      0.04          red         1\n",
      "27       rh_end_tt_4             y_rh      rh      0.09          red         0\n",
      "28              y_rh     rh_end_south      rh      0.06          red         0\n",
      "29      rd_end_north             v_rd      rd      0.14          red         0\n",
      "..               ...              ...     ...       ...          ...       ...\n",
      "93              y_rt            y_gy1       y      0.31       yellow         0\n",
      "94             y_gy1             y_rc       y      0.18       yellow         0\n",
      "95              y_rc             y_rs       y      0.53       yellow         0\n",
      "96              y_rs            y_gy2       y      0.16       yellow         0\n",
      "97             y_gy2              b_y       y      0.28       yellow         0\n",
      "98               b_y        park_east       y      0.14       yellow         0\n",
      "99   o_y_tt_end_west  nature_end_west      tt      0.16        black         0\n",
      "100  nature_end_west      rh_end_tt_4      tt      0.20        black         0\n",
      "101      rh_end_tt_4      rh_end_tt_3      tt      0.15        black         1\n",
      "102      rh_end_tt_3             o_tt      tt      0.11        black         1\n",
      "103             o_tt      rh_end_tt_2      tt      0.13        black         0\n",
      "104      rh_end_tt_2             w_tt      tt      0.06        black         1\n",
      "105             w_tt      rh_end_tt_1      tt      0.08        black         0\n",
      "106      rh_end_tt_1           b_tt_1      tt      0.03        black         1\n",
      "107           b_tt_1            tt_rt      tt      0.36        black         0\n",
      "108            tt_rt           b_tt_2      tt      0.06        black         1\n",
      "109      b_tt_2_dupe      b_tt_3_dupe      tt      0.18        black         0\n",
      "110           b_tt_3      b_tt_3_dupe    hack      0.00        black         0\n",
      "111           b_tt_2      b_tt_2_dupe    hack      0.00        black         0\n",
      "112  nature_end_west             y_rh  nature      0.11  forestgreen         0\n",
      "113             o_tt             y_rt  nature      0.35  forestgreen         0\n",
      "114             b_bw             w_bw      bw      0.19    lightblue         0\n",
      "115            g_gy1            o_gy1     gy1      0.15  yellowgreen         0\n",
      "116            o_gy1            w_gy1     gy1      0.16  yellowgreen         0\n",
      "117            w_gy1            y_gy1     gy1      0.14  yellowgreen         0\n",
      "118             v_bv             b_bv      bv      0.08       purple         0\n",
      "119            g_gy2            w_gy2     gy2      0.05  yellowgreen         0\n",
      "120            w_gy2            b_gy2     gy2      0.03  yellowgreen         1\n",
      "121            b_gy2            o_gy2     gy2      0.07  yellowgreen         0\n",
      "122            o_gy2            y_gy2     gy2      0.12  yellowgreen         0\n",
      "\n",
      "[123 rows x 6 columns]\n"
     ]
    }
   ],
   "source": [
    "#load data\n",
    "edgelist = pd.read_csv('https://gist.githubusercontent.com/brooksandrew/e570c38bcc72a8d102422f2af836513b/raw/89c76b2563dbc0e88384719a35cba0dfc04cd522/edgelist_sleeping_giant.csv')\n",
    "\n",
    "print(edgelist)"
   ]
  },
  {
   "cell_type": "markdown",
   "metadata": {},
   "source": [
    "## Create Graph"
   ]
  },
  {
   "cell_type": "code",
   "execution_count": 11,
   "metadata": {},
   "outputs": [
    {
     "data": {
      "image/png": "[encoded data removed]",
      "text/plain": [
       "<Figure size 432x288 with 1 Axes>"
      ]
     },
     "metadata": {
      "needs_background": "light"
     },
     "output_type": "display_data"
    }
   ],
   "source": [
    "#graph\n",
    "g = nx.Graph()\n",
    "\n",
    "# Add edges and edge attributes\n",
    "for i, elrow in edgelist.iterrows():\n",
    "    g.add_edge(elrow[0], elrow[1], attr_dict=elrow[2:].to_dict())\n",
    "\n",
    "# draw the network \n",
    "nx.draw_networkx(g,node_color='r', node_size=75, with_labels=False)"
   ]
  },
  {
   "cell_type": "markdown",
   "metadata": {},
   "source": [
    "## Question 1: Write a line of code that shows if \"o_tt\" is reachable from \"w_gy2\" ?"
   ]
  },
  {
   "cell_type": "code",
   "execution_count": 23,
   "metadata": {},
   "outputs": [
    {
     "name": "stdout",
     "output_type": "stream",
     "text": [
      "[['o_tt', 'o_w_1', 'g_w', 'g_rt', 'g_gy1', 'g_rc', 'o_rc', 'o_w_2', 'w_rs', 'b_w', 'w_gy2'], ['o_tt', 'o_w_1', 'g_w', 'g_rt', 'g_gy1', 'g_rc', 'g_rs', 'b_rs', 'b_g', 'b_w', 'w_gy2'], ['o_tt', 'o_w_1', 'g_w', 'g_rt', 'g_gy1', 'g_rc', 'g_rs', 'b_rs', 'b_g', 'g_gy2', 'w_gy2']] \n",
      "\n",
      "Total simple paths between o_tt and w_gy2: 323\n",
      "Yes, there are 323 simple paths between o_tt and w_gy2, therefore, o_tt is reachable from w_gy2\n"
     ]
    }
   ],
   "source": [
    "#get all simple paths between two nodes\n",
    "paths = nx.all_simple_paths(g, source='o_tt', target='w_gy2',cutoff=10)\n",
    "pathList = list(paths)\n",
    "print(pathList[0:3],'\\n')\n",
    "print('Total simple paths between o_tt and w_gy2:',len(pathList))\n",
    "print('Yes, there are 323 simple paths between o_tt and w_gy2, therefore, o_tt is reachable from w_gy2')"
   ]
  },
  {
   "cell_type": "markdown",
   "metadata": {},
   "source": [
    "## Question 2: Write a line of code that shows the shortest path between \"o_tt\" and \"w_gy2\"?"
   ]
  },
  {
   "cell_type": "code",
   "execution_count": 27,
   "metadata": {},
   "outputs": [
    {
     "name": "stdout",
     "output_type": "stream",
     "text": [
      "['o_tt', 'o_w_1', 'o_gy1', 'o_rc', 'o_w_2', 'w_rs', 'b_w', 'w_gy2']\n"
     ]
    }
   ],
   "source": [
    "#get shortest path between two nodes\n",
    "print(nx.shortest_path(g,source='o_tt',target='w_gy2'))\n",
    "#print(nx.shortest_path(g,source='w_gy2',target='o_tt')) #reverse"
   ]
  },
  {
   "cell_type": "markdown",
   "metadata": {},
   "source": [
    "## Question 3: Write a line of code that shows the minimum edges that disconnects the graph?"
   ]
  },
  {
   "cell_type": "code",
   "execution_count": 29,
   "metadata": {},
   "outputs": [
    {
     "name": "stdout",
     "output_type": "stream",
     "text": [
      "Number of edges that would disconnect the graph: 13\n"
     ]
    }
   ],
   "source": [
    "#get bridges\n",
    "list(nx.bridges(g))\n",
    "\n",
    "#get length of list\n",
    "print('Number of edges that would disconnect the graph:',len(list(nx.bridges(g))))\n"
   ]
  }
 ],
 "metadata": {
  "kernelspec": {
   "display_name": "Python 3",
   "language": "python",
   "name": "python3"
  },
  "language_info": {
   "codemirror_mode": {
    "name": "ipython",
    "version": 3
   },
   "file_extension": ".py",
   "mimetype": "text/x-python",
   "name": "python",
   "nbconvert_exporter": "python",
   "pygments_lexer": "ipython3",
   "version": "3.6.7"
  }
 },
 "nbformat": 4,
 "nbformat_minor": 2
}

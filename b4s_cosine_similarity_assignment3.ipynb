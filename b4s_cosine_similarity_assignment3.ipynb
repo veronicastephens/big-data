{
 "cells": [
  {
   "cell_type": "markdown",
   "metadata": {},
   "source": [
    "# Question \n",
    "#### Step 1) Read the following articles using Beautifulsoup Python library provided to you\n",
    "#### Step 2) Using the above code build the Cosine Similarity Matrix using CountVectorizer and TFIDFVectorizer \n",
    "#### Step 3) Plot Similarity Matrix using CountVectorizer and TFIDFVectorizer \n",
    "\n",
    "##### URLs:\n",
    "<li> https://en.wikipedia.org/wiki/World_War_II\n",
    "<li> https://en.wikipedia.org/wiki/World_War_I \n",
    "<li> https://en.wikipedia.org/wiki/War_of_1812\n",
    "<li> https://en.wikipedia.org/wiki/Basketball\n",
    "<li> https://en.wikipedia.org/wiki/Association_football"
   ]
  },
  {
   "cell_type": "code",
   "execution_count": 25,
   "metadata": {},
   "outputs": [],
   "source": [
    "#import libraries\n",
    "from pandas import DataFrame\n",
    "import numpy as np\n",
    "import matplotlib.pyplot as plt\n",
    "%matplotlib inline\n",
    "import seaborn as sns\n",
    "from scipy import spatial\n",
    "import nltk\n",
    "import urllib.parse\n",
    "import urllib.request\n",
    "#from urllib.request import Request, urlopen\n",
    "from urllib.error import URLError\n",
    "from bs4 import BeautifulSoup\n",
    "from sklearn.feature_extraction.text import CountVectorizer\n",
    "from sklearn.feature_extraction.text import TfidfVectorizer\n",
    "from sklearn.metrics.pairwise import pairwise_distances\n",
    "#nltk.download('punkt')"
   ]
  },
  {
   "cell_type": "code",
   "execution_count": 3,
   "metadata": {},
   "outputs": [],
   "source": [
    "urlList = ['https://en.wikipedia.org/wiki/World_War_II',\n",
    "         'https://en.wikipedia.org/wiki/World_War_I',\n",
    "         'https://en.wikipedia.org/wiki/War_of_1812',\n",
    "         'https://en.wikipedia.org/wiki/Basketball',\n",
    "         'https://en.wikipedia.org/wiki/Association_football']"
   ]
  },
  {
   "cell_type": "code",
   "execution_count": 5,
   "metadata": {},
   "outputs": [],
   "source": [
    "# dictionary mapping response codes to messages; entries have the\n",
    "# form {code: (shortmessage, longmessage)}.\n",
    "responses = {\n",
    "    100: ('Continue', 'Request received, please continue'),\n",
    "    101: ('Switching Protocols',\n",
    "          'Switching to new protocol; obey Upgrade header'),\n",
    "\n",
    "    200: ('OK', 'Request fulfilled, document follows'),\n",
    "    201: ('Created', 'Document created, URL follows'),\n",
    "    202: ('Accepted',\n",
    "          'Request accepted, processing continues off-line'),\n",
    "    203: ('Non-Authoritative Information', 'Request fulfilled from cache'),\n",
    "    204: ('No Content', 'Request fulfilled, nothing follows'),\n",
    "    205: ('Reset Content', 'Clear input form for further input.'),\n",
    "    206: ('Partial Content', 'Partial content follows.'),\n",
    "\n",
    "    300: ('Multiple Choices',\n",
    "          'Object has several resources -- see URI list'),\n",
    "    301: ('Moved Permanently', 'Object moved permanently -- see URI list'),\n",
    "    302: ('Found', 'Object moved temporarily -- see URI list'),\n",
    "    303: ('See Other', 'Object moved -- see Method and URL list'),\n",
    "    304: ('Not Modified',\n",
    "          'Document has not changed since given time'),\n",
    "    305: ('Use Proxy',\n",
    "          'You must use proxy specified in Location to access this '\n",
    "          'resource.'),\n",
    "    307: ('Temporary Redirect',\n",
    "          'Object moved temporarily -- see URI list'),\n",
    "\n",
    "    400: ('Bad Request',\n",
    "          'Bad request syntax or unsupported method'),\n",
    "    401: ('Unauthorized',\n",
    "          'No permission -- see authorization schemes'),\n",
    "    402: ('Payment Required',\n",
    "          'No payment -- see charging schemes'),\n",
    "    403: ('Forbidden',\n",
    "          'Request forbidden -- authorization will not help'),\n",
    "    404: ('Not Found', 'Nothing matches the given URI'),\n",
    "    405: ('Method Not Allowed',\n",
    "          'Specified method is invalid for this server.'),\n",
    "    406: ('Not Acceptable', 'URI not available in preferred format.'),\n",
    "    407: ('Proxy Authentication Required', 'You must authenticate with '\n",
    "          'this proxy before proceeding.'),\n",
    "    408: ('Request Timeout', 'Request timed out; try again later.'),\n",
    "    409: ('Conflict', 'Request conflict.'),\n",
    "    410: ('Gone',\n",
    "          'URI no longer exists and has been permanently removed.'),\n",
    "    411: ('Length Required', 'Client must specify Content-Length.'),\n",
    "    412: ('Precondition Failed', 'Precondition in headers is false.'),\n",
    "    413: ('Request Entity Too Large', 'Entity is too large.'),\n",
    "    414: ('Request-URI Too Long', 'URI is too long.'),\n",
    "    415: ('Unsupported Media Type', 'Entity body in unsupported format.'),\n",
    "    416: ('Requested Range Not Satisfiable',\n",
    "          'Cannot satisfy request range.'),\n",
    "    417: ('Expectation Failed',\n",
    "          'Expect condition could not be satisfied.'),\n",
    "\n",
    "    500: ('Internal Server Error', 'Server got itself in trouble'),\n",
    "    501: ('Not Implemented',\n",
    "          'Server does not support this operation'),\n",
    "    502: ('Bad Gateway', 'Invalid responses from another server/proxy.'),\n",
    "    503: ('Service Unavailable',\n",
    "          'The server cannot process the request due to a high load'),\n",
    "    504: ('Gateway Timeout',\n",
    "          'The gateway server did not receive a timely response'),\n",
    "    505: ('HTTP Version Not Supported', 'Cannot fulfill request.'),\n",
    "    }"
   ]
  },
  {
   "cell_type": "code",
   "execution_count": 6,
   "metadata": {},
   "outputs": [],
   "source": [
    "#define function to get tokens/words\n",
    "def gettokens (responses,url):\n",
    "    #url = \"https://en.wikipedia.org/wiki/World_War_II\"\n",
    "    user_agent = 'Mozilla/5.0 (Windows NT 6.1; Win64; x64)'\n",
    "    values = {'name': 'Michael Foord',\n",
    "              'location': 'Northampton',\n",
    "              'language': 'Python' }\n",
    "    headers = {'User-Agent': user_agent}\n",
    "    data = urllib.parse.urlencode(values)\n",
    "    data = data.encode('ascii')\n",
    "    \n",
    "    req = urllib.request.Request(url, data, headers)\n",
    "    try:\n",
    "        #urllib.request.urlopen(req)\n",
    "        with urllib.request.urlopen(req) as response:\n",
    "            html = response.read()\n",
    "    except URLError as e:\n",
    "        print('The server couldn\\'t fulfill the request.')\n",
    "        print('Error code: ', responses[e.code])\n",
    "    except URLError as e:\n",
    "        print('We failed to reach a server.')\n",
    "        print('Reason: ', e.reason)\n",
    "    else:\n",
    "        print(\"everything is fine\")\n",
    "        web_str = BeautifulSoup(html, \"lxml\").get_text()\n",
    "        #web_tokens = nltk.word_tokenize(web_str)\n",
    "    \n",
    "    return web_str\n"
   ]
  },
  {
   "cell_type": "code",
   "execution_count": 11,
   "metadata": {},
   "outputs": [],
   "source": [
    "#get tokens for each url in urlList\n",
    "url_0 = gettokens(responses,urlList[0])\n",
    "url_1 = gettokens(responses,urlList[1])\n",
    "url_2 = gettokens(responses,urlList[2])\n",
    "url_3 = gettokens(responses,urlList[3])\n",
    "url_4 = gettokens(responses,urlList[4])\n",
    "\n",
    "#create list of docs\n",
    "docs = [url_0,url_1,url_2,url_3,url_4]\n",
    "#print(docs) #"
   ]
  },
  {
   "cell_type": "code",
   "execution_count": 46,
   "metadata": {},
   "outputs": [
    {
     "name": "stdout",
     "output_type": "stream",
     "text": [
      "   1812  978  american  basketball  battle  british  football  german  \\\n",
      "0     0  231        49           0      45       62         0     126   \n",
      "1     0  153        47           0     130      139         0     212   \n",
      "2   240   33       326           0     144      392         0       1   \n",
      "3     0    4        36         342       0        1        23       1   \n",
      "4     0    9         8           2       0        6       273       0   \n",
      "\n",
      "   germany  history  involving  isbn  mw  new   pp  retrieved  states  united  \\\n",
      "0      146       78        149   234  41   77  128         40      76     108   \n",
      "1      167      111         88   157  48  115  101         79      68      65   \n",
      "2        0       72          9    94  73  120   82         41     187     180   \n",
      "3        1       11          2    10  37   22    2         68      28      27   \n",
      "4        4       28          3    10  44    3    3         90       9       9   \n",
      "\n",
      "   war  world  \n",
      "0  415    178  \n",
      "1  709    272  \n",
      "2  574     16  \n",
      "3    5     41  \n",
      "4    7     65  \n",
      "[[  0 231  49   0  45  62   0 126 146  78 149 234  41  77 128  40  76 108\n",
      "  415 178]\n",
      " [  0 153  47   0 130 139   0 212 167 111  88 157  48 115 101  79  68  65\n",
      "  709 272]\n",
      " [240  33 326   0 144 392   0   1   0  72   9  94  73 120  82  41 187 180\n",
      "  574  16]\n",
      " [  0   4  36 342   0   1  23   1   1  11   2  10  37  22   2  68  28  27\n",
      "    5  41]\n",
      " [  0   9   8   2   0   6 273   0   4  28   3  10  44   3   3  90   9   9\n",
      "    7  65]]\n"
     ]
    }
   ],
   "source": [
    "#from sklearn use CountVectorizer\n",
    "#convert text to matrix with token counts\n",
    "vect = CountVectorizer(stop_words=\"english\", analyzer='word', ngram_range=(1, 1), max_df=1.0, min_df=1, max_features=20)\n",
    "\n",
    "#dimensionality reduction on vect\n",
    "X = vect.fit_transform(docs)\n",
    "\n",
    "#get feature names\n",
    "count_df = DataFrame(X.A, columns=vect.get_feature_names())\n",
    "print (count_df)\n",
    "\n",
    "#get array of counts\n",
    "count_ary = count_df.values\n",
    "print (count_ary)"
   ]
  },
  {
   "cell_type": "code",
   "execution_count": 47,
   "metadata": {},
   "outputs": [
    {
     "name": "stdout",
     "output_type": "stream",
     "text": [
      "[[1.         0.92970986 0.66200175 0.11543721 0.15540254]\n",
      " [0.92970986 1.         0.73869087 0.10623293 0.15638635]\n",
      " [0.66200175 0.73869087 1.         0.11346927 0.09101225]\n",
      " [0.11543721 0.10623293 0.11346927 1.         0.17386267]\n",
      " [0.15540254 0.15638635 0.09101225 0.17386267 1.        ]] \n",
      "\n"
     ]
    },
    {
     "data": {
      "image/png": "[encoded data removed]",
      "text/plain": [
       "<Figure size 432x288 with 2 Axes>"
      ]
     },
     "metadata": {
      "needs_background": "light"
     },
     "output_type": "display_data"
    }
   ],
   "source": [
    "#calculate similarity between different docs, using cosine similarity\n",
    "correlation= 1-pairwise_distances(count_ary, metric='cosine')\n",
    "print (correlation,'\\n')\n",
    "\n",
    "#plot cosine similarity heatmap\n",
    "fig = plt.figure()\n",
    "ax = fig.add_subplot(111)\n",
    "cax = ax.matshow(correlation, vmin=0, vmax=1)\n",
    "fig.colorbar(cax)\n",
    "plt.title('Cosine Similarity')\n",
    "plt.show()"
   ]
  },
  {
   "cell_type": "code",
   "execution_count": 48,
   "metadata": {},
   "outputs": [
    {
     "name": "stdout",
     "output_type": "stream",
     "text": [
      "         1812    978  american  basketball      battle  british    football  \\\n",
      "0    0.000000  231.0      49.0    0.000000   67.987153     62.0    0.000000   \n",
      "1    0.000000  153.0      47.0    0.000000  196.407331    139.0    0.000000   \n",
      "2  626.265099   33.0     326.0    0.000000  217.558890    392.0    0.000000   \n",
      "3    0.000000    4.0      36.0  655.371430    0.000000      1.0   44.074687   \n",
      "4    0.000000    9.0       8.0    3.832581    0.000000      6.0  523.147370   \n",
      "\n",
      "       german     germany  history  involving   isbn    mw    new     pp  \\\n",
      "0  154.116087  178.578958     78.0      149.0  234.0  41.0   77.0  128.0   \n",
      "1  259.306433  204.264973    111.0       88.0  157.0  48.0  115.0  101.0   \n",
      "2    1.223144    0.000000     72.0        9.0   94.0  73.0  120.0   82.0   \n",
      "3    1.223144    1.223144     11.0        2.0   10.0  37.0   22.0    2.0   \n",
      "4    0.000000    4.892574     28.0        3.0   10.0  44.0    3.0    3.0   \n",
      "\n",
      "   retrieved  states  united    war  world  \n",
      "0       40.0    76.0   108.0  415.0  178.0  \n",
      "1       79.0    68.0    65.0  709.0  272.0  \n",
      "2       41.0   187.0   180.0  574.0   16.0  \n",
      "3       68.0    28.0    27.0    5.0   41.0  \n",
      "4       90.0     9.0     9.0    7.0   65.0   \n",
      "\n",
      "[[  0.         231.          49.           0.          67.98715307\n",
      "   62.           0.         154.11608747 178.57895849  78.\n",
      "  149.         234.          41.          77.         128.\n",
      "   40.          76.         108.         415.         178.        ]\n",
      " [  0.         153.          47.           0.         196.40733109\n",
      "  139.           0.         259.30643288 204.26497307 111.\n",
      "   88.         157.          48.         115.         101.\n",
      "   79.          68.          65.         709.         272.        ]\n",
      " [626.26509898  33.         326.           0.         217.55888982\n",
      "  392.           0.           1.22314355   0.          72.\n",
      "    9.          94.          73.         120.          82.\n",
      "   41.         187.         180.         574.          16.        ]\n",
      " [  0.           4.          36.         655.3714303    0.\n",
      "    1.          44.07468683   1.22314355   1.22314355  11.\n",
      "    2.          10.          37.          22.           2.\n",
      "   68.          28.          27.           5.          41.        ]\n",
      " [  0.           9.           8.           3.83258146   0.\n",
      "    6.         523.1473698    0.           4.89257421  28.\n",
      "    3.          10.          44.           3.           3.\n",
      "   90.           9.           9.           7.          65.        ]] \n",
      "\n"
     ]
    }
   ],
   "source": [
    "#TFIDF Vectorizer\n",
    "#term frequency–inverse document frequency\n",
    "f = TfidfVectorizer(smooth_idf=False, sublinear_tf=False, norm=None, stop_words=\"english\", analyzer='word', ngram_range=(1, 1), max_df=1.0, min_df=1, max_features=20)\n",
    "Xi = f.fit_transform(docs)\n",
    "\n",
    "#get feature names\n",
    "tfid_df = DataFrame(Xi.A, columns=f.get_feature_names())\n",
    "print (tfid_df,'\\n') #alphabetical order\n",
    "\n",
    "#get array of counts\n",
    "tfid_ary = tfid_df.values\n",
    "print (tfid_ary,'\\n')"
   ]
  },
  {
   "cell_type": "code",
   "execution_count": 49,
   "metadata": {},
   "outputs": [
    {
     "name": "stdout",
     "output_type": "stream",
     "text": [
      "[[1.         0.92944427 0.5458951  0.06107852 0.08548355]\n",
      " [0.92944427 1.         0.61396282 0.05562086 0.08494591]\n",
      " [0.5458951  0.61396282 1.         0.05057406 0.04198373]\n",
      " [0.06107852 0.05562086 0.05057406 1.         0.10432588]\n",
      " [0.08548355 0.08494591 0.04198373 0.10432588 1.        ]] \n",
      "\n"
     ]
    },
    {
     "data": {
      "image/png": "[encoded data removed]",
      "text/plain": [
       "<Figure size 432x288 with 2 Axes>"
      ]
     },
     "metadata": {
      "needs_background": "light"
     },
     "output_type": "display_data"
    }
   ],
   "source": [
    "#calculate similarity between different docs, using cosine similarity\n",
    "correlation= 1-pairwise_distances(tfid_ary, metric='cosine')\n",
    "print (correlation,'\\n')\n",
    "\n",
    "#plot cosine similarity heatmap\n",
    "fig = plt.figure()\n",
    "ax = fig.add_subplot(111)\n",
    "cax = ax.matshow(correlation, vmin=0, vmax=1)\n",
    "fig.colorbar(cax)\n",
    "plt.title('Cosine Similarity')\n",
    "plt.show()"
   ]
  }
 ],
 "metadata": {
  "kernelspec": {
   "display_name": "Python 3",
   "language": "python",
   "name": "python3"
  },
  "language_info": {
   "codemirror_mode": {
    "name": "ipython",
    "version": 3
   },
   "file_extension": ".py",
   "mimetype": "text/x-python",
   "name": "python",
   "nbconvert_exporter": "python",
   "pygments_lexer": "ipython3",
   "version": "3.6.7"
  }
 },
 "nbformat": 4,
 "nbformat_minor": 2
}
